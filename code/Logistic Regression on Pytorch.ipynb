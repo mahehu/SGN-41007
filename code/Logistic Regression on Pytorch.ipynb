{
 "cells": [
  {
   "cell_type": "markdown",
   "metadata": {},
   "source": [
    "## Training a logistic regression model for 2D data with pytorch"
   ]
  },
  {
   "cell_type": "markdown",
   "metadata": {},
   "source": [
    "In this example, we define a logistic regression model for classifying 2-dimensional vectors to two classes.\n",
    "\n",
    "The first step is to define our classification model. We use the torch Module and redefine the forward step consisting of a linear projection (2D -> 1D; no bias term) followed by logistic sigmoid."
   ]
  },
  {
   "cell_type": "code",
   "execution_count": 4,
   "metadata": {
    "collapsed": true
   },
   "outputs": [],
   "source": [
    "import torch\n",
    "\n",
    "# Define our model (logistic regression)\n",
    "\n",
    "class LogReg(torch.nn.Module):\n",
    "\n",
    "    def __init__(self):\n",
    "        \n",
    "        super(LogReg, self).__init__()\n",
    "        \n",
    "        # Define network components\n",
    "        self.projection = torch.nn.Linear(2, 1, bias = False) # From 2d to 1d\n",
    "        self.activation = torch.nn.Sigmoid()\n",
    "        \n",
    "        # Initialize projection weights to zero\n",
    "        self.projection.weight.data.fill_(0.0)\n",
    "        \n",
    "    def forward(self, x):\n",
    "        # Define the full pipeline\n",
    "        \n",
    "        y = self.projection(x)\n",
    "        y = self.activation(y)\n",
    "        \n",
    "        return y"
   ]
  },
  {
   "cell_type": "markdown",
   "metadata": {},
   "source": [
    "Now we are ready to train the logreg model. We need to cast our numpy data to a torch tensor and initialize the weights to zero (for reproducibility)."
   ]
  },
  {
   "cell_type": "code",
   "execution_count": 7,
   "metadata": {},
   "outputs": [
    {
     "data": {
      "image/png": "[encoded data removed]",
      "text/plain": [
       "<Figure size 432x288 with 2 Axes>"
      ]
     },
     "metadata": {},
     "output_type": "display_data"
    }
   ],
   "source": [
    "import matplotlib.pyplot as plt\n",
    "from sklearn.metrics import accuracy_score\n",
    "import numpy as np\n",
    "\n",
    "# Load data\n",
    "\n",
    "X = np.loadtxt(\"X.csv\", delimiter = \",\").astype(np.float32)\n",
    "y = np.loadtxt(\"y.csv\", delimiter = \",\").astype(np.float32)\n",
    "y[y == -1] = 0\n",
    "\n",
    "# Initialize the model and inputs\n",
    "\n",
    "model = LogReg()\n",
    "\n",
    "X = torch.from_numpy(X)\n",
    "y = torch.from_numpy(y).reshape(-1,1)\n",
    "\n",
    "# Define loss function. (Binary) cross entropy loss is another name for logistic loss.\n",
    "loss_function = torch.nn.BCELoss()\n",
    "\n",
    "num_epochs = 1000 # Number of iterations over all data\n",
    "\n",
    "# Store weight and accuracy history for plotting later\n",
    "weight_history = torch.zeros(num_epochs, 2)\n",
    "acc_history    = torch.zeros(num_epochs)\n",
    "\n",
    "# learning_rate defines how large steps we take\n",
    "learning_rate = 0.1\n",
    "\n",
    "for epoch in range(num_epochs):\n",
    "\n",
    "    # Feed all samples\n",
    "    y_pred = model(X)\n",
    "\n",
    "    # Compute loss...\n",
    "    loss = loss_function(y_pred, y)\n",
    "    \n",
    "    # ...and gradient\n",
    "    model.zero_grad()\n",
    "    loss.backward()\n",
    "\n",
    "    # Apply the gradient step to all parameters\n",
    "    for p in model.parameters():\n",
    "        p.data = p.data - p.grad.data * learning_rate\n",
    "\n",
    "    weight_history[epoch, :] = model.projection.weight\n",
    "    \n",
    "    # Compute the classification accuracy\n",
    "    accuracy = torch.mean(torch.abs(torch.round(y_pred) - y))\n",
    "    acc_history[epoch] = accuracy\n",
    "    \n",
    "weight_history = weight_history.detach().numpy()\n",
    "acc_history    = acc_history.detach().numpy()\n",
    "\n",
    "# Plot results.\n",
    "fig, ax = plt.subplots(1, 2)\n",
    "ax[0].plot(weight_history[:, 0], weight_history[:, 1], 'r.', alpha = 0.8)    \n",
    "ax[0].set_title(\"Weights\")\n",
    "ax[0].set_xlabel(\"w[0]\")\n",
    "ax[0].set_ylabel(\"w[1]\")\n",
    "ax[0].grid(True)\n",
    "\n",
    "ax[1].plot(100 * acc_history)\n",
    "ax[1].set_title(\"Error rate\")\n",
    "ax[1].set_xlabel(\"Epoch\")\n",
    "ax[1].set_ylabel(\"Error [%]\")\n",
    "ax[1].grid(True)\n",
    "\n",
    "plt.tight_layout()\n",
    "plt.show()\n"
   ]
  }
 ],
 "metadata": {
  "kernelspec": {
   "display_name": "Python 3",
   "language": "python",
   "name": "python3"
  },
  "language_info": {
   "codemirror_mode": {
    "name": "ipython",
    "version": 3
   },
   "file_extension": ".py",
   "mimetype": "text/x-python",
   "name": "python",
   "nbconvert_exporter": "python",
   "pygments_lexer": "ipython3",
   "version": "3.6.6"
  }
 },
 "nbformat": 4,
 "nbformat_minor": 2
}
