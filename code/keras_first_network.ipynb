{
 "cells": [
  {
   "cell_type": "code",
   "execution_count": 1,
   "metadata": {},
   "outputs": [
    {
     "name": "stdout",
     "output_type": "stream",
     "text": [
      "Epoch 1/20\n",
      "320/320 [==============================] - 1s 2ms/step - loss: 0.6376\n",
      "Epoch 2/20\n",
      "320/320 [==============================] - 0s 227us/step - loss: 0.5445\n",
      "Epoch 3/20\n",
      "320/320 [==============================] - 0s 227us/step - loss: 0.4544\n",
      "Epoch 4/20\n",
      "320/320 [==============================] - 0s 222us/step - loss: 0.3744\n",
      "Epoch 5/20\n",
      "320/320 [==============================] - 0s 221us/step - loss: 0.3171\n",
      "Epoch 6/20\n",
      "320/320 [==============================] - 0s 241us/step - loss: 0.2826\n",
      "Epoch 7/20\n",
      "320/320 [==============================] - 0s 251us/step - loss: 0.2558\n",
      "Epoch 8/20\n",
      "320/320 [==============================] - 0s 276us/step - loss: 0.2417\n",
      "Epoch 9/20\n",
      "320/320 [==============================] - 0s 282us/step - loss: 0.2348\n",
      "Epoch 10/20\n",
      "320/320 [==============================] - 0s 367us/step - loss: 0.2266\n",
      "Epoch 11/20\n",
      "320/320 [==============================] - 0s 410us/step - loss: 0.2191\n",
      "Epoch 12/20\n",
      "320/320 [==============================] - 0s 266us/step - loss: 0.2148\n",
      "Epoch 13/20\n",
      "320/320 [==============================] - 0s 291us/step - loss: 0.2120\n",
      "Epoch 14/20\n",
      "320/320 [==============================] - 0s 309us/step - loss: 0.2106\n",
      "Epoch 15/20\n",
      "320/320 [==============================] - 0s 279us/step - loss: 0.2082\n",
      "Epoch 16/20\n",
      "320/320 [==============================] - 0s 282us/step - loss: 0.2040\n",
      "Epoch 17/20\n",
      "320/320 [==============================] - 0s 262us/step - loss: 0.2042\n",
      "Epoch 18/20\n",
      "320/320 [==============================] - 0s 290us/step - loss: 0.2014\n",
      "Epoch 19/20\n",
      "320/320 [==============================] - 0s 278us/step - loss: 0.2022\n",
      "Epoch 20/20\n",
      "320/320 [==============================] - 0s 285us/step - loss: 0.1993\n",
      "Accuracy on test data is 100.00 %\n"
     ]
    }
   ],
   "source": [
    "# Training code:\n",
    "import tensorflow as tf\n",
    "import numpy as np\n",
    "from sklearn.model_selection import train_test_split\n",
    "\n",
    "# Load sample data\n",
    "X = np.loadtxt(\"X.csv\", delimiter = \",\")\n",
    "y = np.loadtxt(\"y.csv\")\n",
    "\n",
    "# Convert from indices into categorical form.\n",
    "# Note: More general approach is:\n",
    "# y = tf.keras.utils.to_categorical(y)\n",
    "y = (y == 1)\n",
    "\n",
    "# Split to training and evaluation:\n",
    "X_train, X_test, y_train, y_test = train_test_split(X, y, test_size = 0.2)\n",
    "\n",
    "# First we initialize the model. \"Sequential\" means there are no loops.\n",
    "clf = tf.keras.models.Sequential()\n",
    "\n",
    "# Add layers one at the time. Each with 100 nodes.\n",
    "clf.add(tf.keras.layers.Dense(100, input_dim=2, activation = 'sigmoid'))\n",
    "clf.add(tf.keras.layers.Dense(100, activation = 'sigmoid'))\n",
    "clf.add(tf.keras.layers.Dense(1, activation = 'sigmoid'))\n",
    "\n",
    "# The code is compiled to CUDA or C++\n",
    "clf.compile(loss='binary_crossentropy', optimizer='adam')\n",
    "clf.fit(X_train, y_train, epochs=20, batch_size=16) # takes a few seconds\n",
    "\n",
    "# Check accuracy\n",
    "y_pred = clf.predict(X_test)\n",
    "\n",
    "# The model outputs probabilities, so let's threshold at 0.5:\n",
    "y_pred = (y_test > 0.5)\n",
    "accuracy = np.mean(y_test == y_pred)\n",
    "\n",
    "print(\"Accuracy on test data is %.2f %%\" % (100 * accuracy))"
   ]
  }
 ],
 "metadata": {
  "kernelspec": {
   "display_name": "Python 3",
   "language": "python",
   "name": "python3"
  },
  "language_info": {
   "codemirror_mode": {
    "name": "ipython",
    "version": 3
   },
   "file_extension": ".py",
   "mimetype": "text/x-python",
   "name": "python",
   "nbconvert_exporter": "python",
   "pygments_lexer": "ipython3",
   "version": "3.6.6"
  }
 },
 "nbformat": 4,
 "nbformat_minor": 2
}
